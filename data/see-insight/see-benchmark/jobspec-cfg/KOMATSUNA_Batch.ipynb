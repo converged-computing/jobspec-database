{
 "cells": [
  {
   "cell_type": "markdown",
   "id": "e8f605d6-b501-453c-9212-96394adbfd99",
   "metadata": {},
   "source": []
  },
  {
   "cell_type": "markdown",
   "id": "91d77707-38c0-40f5-8511-a14511e1022f",
   "metadata": {
    "tags": []
   },
   "source": [
    "# KOMATSUNA Batch file on HPCC\n",
    "\n",
    "This program is us exploring how we want to run a big multi-image job using the HPCC.  To start we are just going to run a singl eimage job using different input files for training. "
   ]
  },
  {
   "cell_type": "code",
   "execution_count": null,
   "id": "ec061765-caf8-41f7-b47d-eac06f515ac2",
   "metadata": {},
   "outputs": [],
   "source": [
    "%matplotlib inline\n",
    "from parsesee import parsesee\n",
    "\n",
    "df = parsesee.getslurmoutputfiles('./KOMATSUNA_Benchmark_Output/')\n",
    "df"
   ]
  },
  {
   "cell_type": "code",
   "execution_count": null,
   "id": "e0dbdd44-5d3c-4d6c-ac6a-d88b816d5976",
   "metadata": {},
   "outputs": [],
   "source": [
    "rundata = parsesee.parseall(df)"
   ]
  },
  {
   "cell_type": "code",
   "execution_count": null,
   "id": "adf4a2ea-9440-4d8f-ba7b-198cde9cb05a",
   "metadata": {},
   "outputs": [],
   "source": [
    "rundata"
   ]
  },
  {
   "cell_type": "code",
   "execution_count": null,
   "id": "e73643ee-4430-4ab7-981b-9b2be69732d1",
   "metadata": {},
   "outputs": [],
   "source": [
    "import pickle\n",
    "\n",
    "# open a file, where you ant to store the data\n",
    "file = open('KOMATSUNA_Batch_results', 'wb')\n",
    "\n",
    "# dump information to that file\n",
    "pickle.dump(rundata, file)\n",
    "\n",
    "# close the file\n",
    "file.close()\n",
    "\n"
   ]
  },
  {
   "cell_type": "code",
   "execution_count": null,
   "id": "105c71f1-874d-4079-b67c-b7eee03a7f2d",
   "metadata": {
    "tags": []
   },
   "outputs": [],
   "source": [
    "import pickle\n",
    "\n",
    "# open a file, where you stored the pickled data\n",
    "file = open('KOMATSUNA_Batch_results', 'rb')\n",
    "\n",
    "# dump information to that file\n",
    "rundata = pickle.load(file)\n",
    "\n",
    "# close the file\n",
    "file.close()\n"
   ]
  },
  {
   "cell_type": "code",
   "execution_count": null,
   "id": "e591bc60-65cc-4a86-a4c8-c126935b6d05",
   "metadata": {
    "tags": []
   },
   "outputs": [],
   "source": [
    "#rundata['rgb_00_000_01']"
   ]
  },
  {
   "cell_type": "code",
   "execution_count": null,
   "id": "abca0fa0-4645-4e85-80d8-3f96527feb04",
   "metadata": {},
   "outputs": [],
   "source": [
    "import pandas as pd\n",
    "def convergerate(mydata):\n",
    "    rate = []\n",
    "    for index,data in enumerate(mydata['data']):\n",
    "        results = pd.DataFrame(data, columns=['index', 'fitness', 'individual'])\n",
    "        trend = [1] + list(results['fitness']);\n",
    "        best = trend[-1]\n",
    "        count = 0;\n",
    "        while trend[count] > best:\n",
    "            count += 1\n",
    "        rate.append(count)\n",
    "    return rate\n",
    " \n",
    "    "
   ]
  },
  {
   "cell_type": "code",
   "execution_count": null,
   "id": "cfae01bf-b3a5-4886-8191-fe32fdb138e5",
   "metadata": {},
   "outputs": [],
   "source": [
    "convergerate(rundata[file])"
   ]
  },
  {
   "cell_type": "code",
   "execution_count": null,
   "id": "be4823b9-08e8-46a4-ba36-a01d1bbb9703",
   "metadata": {},
   "outputs": [],
   "source": [
    "from parsesee import parsesee\n",
    "import matplotlib.pylab as plt \n",
    "plt.figure(figsize=[12,9])\n",
    "\n",
    "number = 8;\n",
    "file = f'rgb_00_{number:03}_01'\n",
    "parsesee.plot_rundata(rundata[file], key=file)"
   ]
  },
  {
   "cell_type": "code",
   "execution_count": null,
   "id": "f45d6969-9ac8-4ad7-aba6-b472879c364a",
   "metadata": {},
   "outputs": [],
   "source": [
    "iterations = []\n",
    "minfitness = []\n",
    "algorithm = []\n",
    "rates = []\n",
    "for imagefile in rundata:\n",
    "    iterations.append(rundata[imagefile]['iterations'][0][0])\n",
    "    mindata = rundata[imagefile]['data'][0]\n",
    "    rate = convergerate(rundata[imagefile])\n",
    "    \n",
    "    if len(mindata) > 0:\n",
    "        if len(mindata[-1]) > 0:\n",
    "            minfitness.append(mindata[-1][1])\n",
    "            algorithm.append(mindata[-1][2][3])\n",
    "            rates.append(rate[0])\n",
    "    else:\n",
    "        print(\"not found\")\n"
   ]
  },
  {
   "cell_type": "code",
   "execution_count": null,
   "id": "793c85d0-cc5f-4320-9779-ad71fe3ca5ba",
   "metadata": {},
   "outputs": [],
   "source": [
    "plt.hist(rates, bins=100);\n",
    "plt.xlabel('Convergence Rate')\n",
    "plt.ylabel('number of runs')"
   ]
  },
  {
   "cell_type": "code",
   "execution_count": null,
   "id": "a30ae02d-e2dc-4dfe-b884-20221bb48324",
   "metadata": {},
   "outputs": [],
   "source": [
    "import numpy\n",
    "print(f\"{numpy.min(rates)} {numpy.mean(rates)} {numpy.max(rates)}\")"
   ]
  },
  {
   "cell_type": "code",
   "execution_count": null,
   "id": "0b26c160-35f3-4d59-a9e0-81c1b340e10d",
   "metadata": {},
   "outputs": [],
   "source": [
    "import numpy\n",
    "numpy.unique(algorithm, return_counts = True)"
   ]
  },
  {
   "cell_type": "code",
   "execution_count": null,
   "id": "7066ef67-328b-4bc9-8156-e158f39a9346",
   "metadata": {},
   "outputs": [],
   "source": []
  },
  {
   "cell_type": "code",
   "execution_count": null,
   "id": "1dd287c3-42b7-4b3b-bee7-de831646d439",
   "metadata": {
    "tags": []
   },
   "outputs": [],
   "source": [
    "plt.hist(iterations, bins=100);"
   ]
  },
  {
   "cell_type": "code",
   "execution_count": null,
   "id": "16691f8c-a23b-4146-b0fb-2f3470d9ab10",
   "metadata": {},
   "outputs": [],
   "source": [
    "print(f\"{numpy.min(iterations)} {numpy.mean(iterations)} {numpy.max(iterations)}\")"
   ]
  },
  {
   "cell_type": "code",
   "execution_count": null,
   "id": "a0d0b90d-9c05-4e30-ad5a-0d79433be0de",
   "metadata": {},
   "outputs": [],
   "source": [
    "plt.hist(minfitness, bins=100);"
   ]
  },
  {
   "cell_type": "code",
   "execution_count": null,
   "id": "230fb2fe-9eba-4ffe-a32f-aeb7698c9607",
   "metadata": {},
   "outputs": [],
   "source": [
    "print(f\"{numpy.min(minfitness)} {numpy.mean(minfitness)} {numpy.max(minfitness)}\")"
   ]
  },
  {
   "cell_type": "code",
   "execution_count": null,
   "id": "d44fcfef-29ca-404e-bf32-eaf0cc364eff",
   "metadata": {},
   "outputs": [],
   "source": [
    "plt.plot(minfitness, rates, '.')\n",
    "\n",
    "plt.xlabel('minimum fitness')\n",
    "plt.ylabel('Convergence Rate');"
   ]
  },
  {
   "cell_type": "code",
   "execution_count": null,
   "id": "939ec667-11d8-4244-810d-cadcc052c916",
   "metadata": {},
   "outputs": [],
   "source": []
  }
 ],
 "metadata": {
  "kernelspec": {
   "display_name": "Python 3",
   "language": "python",
   "name": "python3"
  },
  "language_info": {
   "codemirror_mode": {
    "name": "ipython",
    "version": 3
   },
   "file_extension": ".py",
   "mimetype": "text/x-python",
   "name": "python",
   "nbconvert_exporter": "python",
   "pygments_lexer": "ipython3",
   "version": "3.9.12"
  }
 },
 "nbformat": 4,
 "nbformat_minor": 5
}
